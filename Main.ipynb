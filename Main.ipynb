{
  "cells": [
    {
      "cell_type": "code",
      "execution_count": 2,
      "metadata": {
        "colab": {
          "base_uri": "https://localhost:8080/"
        },
        "id": "05R0fd4Mzc0w",
        "outputId": "a10efbed-8cf5-4020-c4b9-a5ead856dd5d"
      },
      "outputs": [
        {
          "name": "stdout",
          "output_type": "stream",
          "text": [
            "[Errno 2] No such file or directory: '/content/drive/MyDrive/Colab Notebooks/-Intelligent_Placer'\n",
            "/content\n"
          ]
        }
      ],
      "source": [
        "%cd /content/drive/MyDrive/Colab Notebooks/-Intelligent_Placer"
      ]
    },
    {
      "cell_type": "code",
      "execution_count": 3,
      "metadata": {
        "id": "2TsPrWJFzpeb"
      },
      "outputs": [],
      "source": [
        "import os\n",
        "import matplotlib.pyplot as plt\n",
        "from pathlib import Path\n",
        "import cv2\n",
        "import numpy as np\n",
        "import glob\n",
        "import os\n"
      ]
    },
    {
      "cell_type": "code",
      "execution_count": 4,
      "metadata": {
        "id": "ye6n0az36KAC"
      },
      "outputs": [],
      "source": [
        "def FixSize(img):\n",
        "    coefficient = 30/100\n",
        "    width = int(img.shape[1] * coefficient)\n",
        "    height = int(img.shape[0] * coefficient)\n",
        "    dim = (width, height)\n",
        "    newImg = cv2.resize(img, dim)\n",
        "  \n",
        "    return newImg"
      ]
    },
    {
      "cell_type": "code",
      "execution_count": 5,
      "metadata": {
        "id": "mQp6L5JyA8hB"
      },
      "outputs": [],
      "source": [
        "def fillhole(input_image):\n",
        "    '''\n",
        "    input gray binary image  get the filled image by floodfill method\n",
        "    Note: only holes surrounded in the connected regions will be filled.\n",
        "    :param input_image:\n",
        "    :return:\n",
        "    '''\n",
        "    im_flood_fill = input_image.copy()\n",
        "    h, w = input_image.shape[:2]\n",
        "    mask = np.zeros((h + 2, w + 2), np.uint8)\n",
        "    im_flood_fill = im_flood_fill.astype(\"uint8\")\n",
        "    cv2.floodFill(im_flood_fill, mask, (0, 0), 255)\n",
        "    im_flood_fill_inv = cv2.bitwise_not(im_flood_fill)\n",
        "    img_out = input_image | im_flood_fill_inv\n",
        "    \n",
        "    return img_out \n",
        "   \n"
      ]
    },
    {
      "cell_type": "code",
      "execution_count": 7,
      "metadata": {
        "id": "LlU4m3MlspR0"
      },
      "outputs": [],
      "source": [
        "def findPolyGon_Object(nameImage):\n",
        "    image1 = cv2.imread(nameImage)\n",
        "    image = FixSize(image1)\n",
        "\n",
        "    gray = cv2.cvtColor(image, cv2.COLOR_BGR2GRAY)\n",
        "    blurred = cv2.GaussianBlur(gray, (3,3), 0)\n",
        "    canny = cv2.Canny(blurred, 120, 255, 1)\n",
        "\n",
        "    fill_hole_ima =fillhole(canny)\n",
        "\n",
        "    f, ax = plt.subplots(2, 2, figsize=(10, 10))\n",
        "    ax[0,0].set_title(f\"Input\")\n",
        "    ax[0,1].set_title(f\"Method Canna\")\n",
        "    ax[1, 0].set_title(f\"Fill hole\")\n",
        "    ax[0,0].imshow(image,cmap=\"gray\")\n",
        "    ax[0,1].imshow(canny,cmap=\"gray\")\n",
        "    ax[1, 0].imshow(fill_hole_ima,cmap=\"gray\")  \n",
        "    plt.savefig(f\"output/result_{os.path.basename(nameImage)}\")\n",
        "    plt.close()\n",
        "    return image , fill_hole_ima\n",
        "\n"
      ]
    },
    {
      "cell_type": "code",
      "execution_count": 8,
      "metadata": {
        "id": "vLCm4Un_uXo0"
      },
      "outputs": [],
      "source": [
        "def CheckPolygon_Object(image ,  fill_hole_ima):\n",
        "    # tìm toạ độ các đường viền\n",
        "    contours, hierarchy = cv2.findContours(fill_hole_ima, cv2.RETR_TREE, cv2.CHAIN_APPROX_SIMPLE)\n",
        "\n",
        "    img2 = image.copy()\n",
        "    index = 0\n",
        "    areas_orig = []\n",
        "    areas_bboxes = []\n",
        "    all_width = []\n",
        "    all_height =[]\n",
        "    ymax = 0\n",
        "    for i,contour in enumerate(contours):\n",
        "        # lấy toạ độ các vật thể với xleft, ytop, width,height\n",
        "        x,y,w,h = cv2.boundingRect(contour)\n",
        "        # loại bỏ các viền có diện tích nhở hơn 5 \n",
        "        if cv2.contourArea(contour)<5:\n",
        "            continue\n",
        "        # lấy toàn bộ kích thước của các vật thể và hình\n",
        "        all_width.append(w)\n",
        "        all_height.append(h)\n",
        "        # tìm toạ độ của hình\n",
        "        if ymax == 0:\n",
        "            ymax = y\n",
        "        else:\n",
        "            if y>ymax:\n",
        "               ymax = y\n",
        "               index = i\n",
        "            \n",
        "\n",
        "    all_width = np.array(all_width)\n",
        "    all_height =np.array(all_height)\n",
        "    # tìm vật thể có kích thước lớn nhất\n",
        "    width_max = np.argmax(all_width)\n",
        "    height_max = np.argmax(all_height)\n",
        "\n",
        "\n",
        "    # kiểm tra xem vật thể có  kích thước lớn nhất đó có phải là hình hay không\n",
        "    # đúng thì vật thể nằm, còn sai thì vật thể nằm ngoài\n",
        "    if (width_max == index and height_max == index):#area_max==index and \n",
        "        return True\n",
        "    else:\n",
        "        return False\n",
        "    \n",
        "        # break\n"
      ]
    },
    {
      "cell_type": "code",
      "execution_count": 9,
      "metadata": {
        "id": "LZytp867vn7C"
      },
      "outputs": [],
      "source": [
        "imageList = sorted(glob.glob(\"./Input/*.jpg\"))\n",
        "\n",
        "for one in imageList:\n",
        "    image ,  fill_hole_ima = findPolyGon_Object(one)\n",
        "    bool_Check = CheckPolygon_Object(image ,  fill_hole_ima)\n",
        "    gt = False if \"false\" in one else True\n",
        "    with open(\"./Result test/result.txt\", \"a\") as file:\n",
        "      file.write(\"{} , Result Algoritm : {} ,Result in name : {} ,Otvet : {}  \\n \".format(one ,bool_Check,gt,bool_Check == gt ))\n",
        "    "
      ]
    },
    {
      "cell_type": "code",
      "execution_count": 9,
      "metadata": {
        "id": "EZktuyqzvFII"
      },
      "outputs": [],
      "source": []
    }
  ],
  "metadata": {
    "colab": {
      "collapsed_sections": [],
      "name": "Копия блокнота \"Main.ipynb\"",
      "provenance": []
    },
    "kernelspec": {
      "display_name": "Python 3",
      "name": "python3"
    },
    "language_info": {
      "name": "python"
    }
  },
  "nbformat": 4,
  "nbformat_minor": 0
}
